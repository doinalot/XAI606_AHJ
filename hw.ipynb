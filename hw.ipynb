{
 "cells": [
  {
   "cell_type": "code",
   "execution_count": 1,
   "metadata": {},
   "outputs": [],
   "source": [
    "import numpy as np\n",
    "import torch\n",
    "\n",
    "\n",
    "dir = [\"train\", \"validation\", \"test\"]\n",
    "\n",
    "#string to integer\n",
    "strtoint_0 = lambda x:1. if x==\"Bachelors\" else (2. if x==\"Masters\" else 3.)    #Education\n",
    "strtoint_2 = lambda x:1. if x==\"Bangalore\" else (2. if x==\"Pune\" else 3.)       #City\n",
    "strtoint_4 = lambda x:1. if x==\"Male\" else 2.                                   #Gender\n",
    "strtoint_5 = lambda x:1. if x==\"Yes\" else 2.                                    #ExperienceInCurrentDomain\n",
    "\n",
    "convert_dict = {0:strtoint_0, 2:strtoint_2, 4:strtoint_4, 5:strtoint_5}\n",
    "\n",
    "def load_data(dir):\n",
    "    train = np.genfromtxt(f\"dataset/{dir[0]}.csv\", dtype=float, skip_header=1, converters=convert_dict, delimiter=\",\")\n",
    "    validation = np.genfromtxt(f\"dataset/{dir[1]}.csv\", dtype=float, skip_header=1, converters=convert_dict, delimiter=\",\")\n",
    "    test = np.genfromtxt(f\"dataset/{dir[2]}.csv\", dtype=float, skip_header=1, converters=convert_dict, delimiter=\",\")\n",
    "    # label -1\n",
    "    train[:,-1] -= 1.\n",
    "    validation[:,-1] -= 1.\n",
    "\n",
    "    return train, validation, test\n",
    "\n",
    "train, validation, test = load_data(dir)\n",
    "batch_size = 64\n",
    "\n",
    "trainloader = torch.utils.data.DataLoader(train, batch_size=batch_size,\n",
    "                                          shuffle=True, num_workers=2)\n",
    "valloader = torch.utils.data.DataLoader(validation, batch_size=batch_size,\n",
    "                                          shuffle=True, num_workers=2)\n"
   ]
  },
  {
   "cell_type": "code",
   "execution_count": 2,
   "metadata": {},
   "outputs": [
    {
     "name": "stderr",
     "output_type": "stream",
     "text": [
      "  0%|          | 0/3 [00:00<?, ?it/s]"
     ]
    },
    {
     "name": "stdout",
     "output_type": "stream",
     "text": [
      "0\n",
      "0\n"
     ]
    }
   ],
   "source": [
    "import torch.nn as nn\n",
    "import torch.optim as optim\n",
    "from tqdm import trange\n",
    "import torch.nn.functional as F\n",
    "\n",
    "class Net(nn.Module):\n",
    "    def __init__(self):\n",
    "        super().__init__()\n",
    "        self.MLP1 = nn.Linear(7, 24, dtype=torch.float32)\n",
    "        self.MLP2 = nn.Linear(24, 24, dtype=torch.float32)\n",
    "        self.MLP3 = nn.Linear(24, 3, dtype=torch.float32)\n",
    "    def forward(self, x):\n",
    "        x = F.relu(self.MLP1(x))\n",
    "        x = F.relu(self.MLP2(x))\n",
    "        x = self.MLP3(x)\n",
    "        return x\n",
    "\n",
    "model = Net()\n",
    "loss_fn = nn.CrossEntropyLoss()\n",
    "optimizer = optim.Adam(model.parameters(), lr=0.003)\n",
    "\n",
    "for epoch in trange(10):\n",
    "    for i, data in enumerate(trainloader, 0):\n",
    "        input = data[:,:-1].clone().type(torch.float32)\n",
    "        label = data[:,-1].clone().long()\n",
    "        optimizer.zero_grad()\n",
    "        outputs = model(input)\n",
    "\n",
    "        loss = loss_fn(outputs, label)\n",
    "        loss.backward()\n",
    "        optimizer.step()\n",
    "\n",
    "        print(f'[{epoch + 1}, {i + 1:5d}] loss: {loss:.3f}')\n",
    "\n"
   ]
  },
  {
   "cell_type": "code",
   "execution_count": 1,
   "metadata": {},
   "outputs": [
    {
     "ename": "NameError",
     "evalue": "name 'torch' is not defined",
     "output_type": "error",
     "traceback": [
      "\u001b[0;31m---------------------------------------------------------------------------\u001b[0m",
      "\u001b[0;31mNameError\u001b[0m                                 Traceback (most recent call last)",
      "\u001b[0;32m/tmp/ipykernel_577681/512211210.py\u001b[0m in \u001b[0;36m<module>\u001b[0;34m\u001b[0m\n\u001b[1;32m      2\u001b[0m \u001b[0mcorrect\u001b[0m \u001b[0;34m=\u001b[0m \u001b[0;36m0\u001b[0m\u001b[0;34m\u001b[0m\u001b[0;34m\u001b[0m\u001b[0m\n\u001b[1;32m      3\u001b[0m \u001b[0mtotal\u001b[0m \u001b[0;34m=\u001b[0m \u001b[0;36m0\u001b[0m\u001b[0;34m\u001b[0m\u001b[0;34m\u001b[0m\u001b[0m\n\u001b[0;32m----> 4\u001b[0;31m \u001b[0;32mwith\u001b[0m \u001b[0mtorch\u001b[0m\u001b[0;34m.\u001b[0m\u001b[0mno_grad\u001b[0m\u001b[0;34m(\u001b[0m\u001b[0;34m)\u001b[0m\u001b[0;34m:\u001b[0m\u001b[0;34m\u001b[0m\u001b[0;34m\u001b[0m\u001b[0m\n\u001b[0m\u001b[1;32m      5\u001b[0m     \u001b[0;32mfor\u001b[0m \u001b[0mdata\u001b[0m \u001b[0;32min\u001b[0m \u001b[0mvalloader\u001b[0m\u001b[0;34m:\u001b[0m\u001b[0;34m\u001b[0m\u001b[0;34m\u001b[0m\u001b[0m\n\u001b[1;32m      6\u001b[0m         \u001b[0minput\u001b[0m \u001b[0;34m=\u001b[0m \u001b[0mdata\u001b[0m\u001b[0;34m[\u001b[0m\u001b[0;34m:\u001b[0m\u001b[0;34m,\u001b[0m\u001b[0;34m:\u001b[0m\u001b[0;34m-\u001b[0m\u001b[0;36m1\u001b[0m\u001b[0;34m]\u001b[0m\u001b[0;34m.\u001b[0m\u001b[0mclone\u001b[0m\u001b[0;34m(\u001b[0m\u001b[0;34m)\u001b[0m\u001b[0;34m.\u001b[0m\u001b[0mtype\u001b[0m\u001b[0;34m(\u001b[0m\u001b[0mtorch\u001b[0m\u001b[0;34m.\u001b[0m\u001b[0mfloat32\u001b[0m\u001b[0;34m)\u001b[0m\u001b[0;34m\u001b[0m\u001b[0;34m\u001b[0m\u001b[0m\n",
      "\u001b[0;31mNameError\u001b[0m: name 'torch' is not defined"
     ]
    }
   ],
   "source": [
    "#validation set test\n",
    "correct = 0\n",
    "total = 0\n",
    "with torch.no_grad():\n",
    "    for data in valloader:\n",
    "        input = data[:,:-1].clone().type(torch.float32)\n",
    "        label = data[:,-1].clone().long()\n",
    "        outputs = model(input)\n",
    "        _, predicted = torch.max(outputs.data, 1)\n",
    "        total += label.size(0)\n",
    "        correct += (predicted == label).sum().item()\n",
    "\n",
    "print(f'Accuracy : {100 * correct / total} %')"
   ]
  }
 ],
 "metadata": {
  "interpreter": {
   "hash": "31f2aee4e71d21fbe5cf8b01ff0e069b9275f58929596ceb00d14d90e3e16cd6"
  },
  "kernelspec": {
   "display_name": "Python 3.7.3 64-bit",
   "language": "python",
   "name": "python3"
  },
  "language_info": {
   "codemirror_mode": {
    "name": "ipython",
    "version": 3
   },
   "file_extension": ".py",
   "mimetype": "text/x-python",
   "name": "python",
   "nbconvert_exporter": "python",
   "pygments_lexer": "ipython3",
   "version": "3.7.4"
  },
  "orig_nbformat": 4
 },
 "nbformat": 4,
 "nbformat_minor": 2
}
